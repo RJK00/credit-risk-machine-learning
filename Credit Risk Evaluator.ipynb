{
 "cells": [
  {
   "cell_type": "code",
   "execution_count": 84,
   "metadata": {},
   "outputs": [],
   "source": [
    "import numpy as np\n",
    "import pandas as pd\n",
    "from sklearn.model_selection import train_test_split\n",
    "from sklearn.preprocessing import StandardScaler\n",
    "from sklearn.linear_model import LogisticRegression\n",
    "from sklearn.ensemble import RandomForestClassifier\n",
    "from sklearn.metrics import classification_report\n",
    "from sklearn.feature_selection import SelectFromModel\n"
   ]
  },
  {
   "cell_type": "markdown",
   "metadata": {},
   "source": [
    "## Using Logistic Regression vs Random Forest Classifier model in determining credit risk\n",
    "\n",
    "#### Prediction: \n",
    "Logistic regression will out-perform the Random Forest model because the dataset is relatively simple and does not contain an overwhelming number of noise variables. \n",
    "\n",
    "#### Results:\n",
    " As predicted, logistic regression performed with a higher average accuracy score *(0.9937 or 99.37%)* compared to the random forest classifier model, which yielded *0.9915 (99.15% accuracy rate)*. Given the slim dataset, it is likely unwise to further reduce its complexity through methods such as feature selection. Doing so may increase overfitting risk and ultimately reduce the overall accuracy of the models, as attested by the values returned by <code>test_model_fs()</code>. \n",
    "\n",
    "Increasing the number of estimators(trees) from 100 to 1000 in the random forest classifier model yielded slightly higher nominal scores for accuracy *(+0.015%)*: *0.99153* and *0.99169* respectively. \n",
    "\n",
    "#### Further analysis:\n",
    "A two-sample pairwise t-test could be performed to quantify the statistical significance of the differences in performance metrics between the two models."
   ]
  },
  {
   "cell_type": "code",
   "execution_count": 50,
   "metadata": {},
   "outputs": [
    {
     "data": {
      "text/html": [
       "<div>\n",
       "<style scoped>\n",
       "    .dataframe tbody tr th:only-of-type {\n",
       "        vertical-align: middle;\n",
       "    }\n",
       "\n",
       "    .dataframe tbody tr th {\n",
       "        vertical-align: top;\n",
       "    }\n",
       "\n",
       "    .dataframe thead th {\n",
       "        text-align: right;\n",
       "    }\n",
       "</style>\n",
       "<table border=\"1\" class=\"dataframe\">\n",
       "  <thead>\n",
       "    <tr style=\"text-align: right;\">\n",
       "      <th></th>\n",
       "      <th>loan_size</th>\n",
       "      <th>interest_rate</th>\n",
       "      <th>borrower_income</th>\n",
       "      <th>debt_to_income</th>\n",
       "      <th>num_of_accounts</th>\n",
       "      <th>derogatory_marks</th>\n",
       "      <th>total_debt</th>\n",
       "      <th>loan_status</th>\n",
       "    </tr>\n",
       "  </thead>\n",
       "  <tbody>\n",
       "    <tr>\n",
       "      <th>0</th>\n",
       "      <td>10700.0</td>\n",
       "      <td>7.672</td>\n",
       "      <td>52800</td>\n",
       "      <td>0.431818</td>\n",
       "      <td>5</td>\n",
       "      <td>1</td>\n",
       "      <td>22800</td>\n",
       "      <td>0</td>\n",
       "    </tr>\n",
       "    <tr>\n",
       "      <th>1</th>\n",
       "      <td>8400.0</td>\n",
       "      <td>6.692</td>\n",
       "      <td>43600</td>\n",
       "      <td>0.311927</td>\n",
       "      <td>3</td>\n",
       "      <td>0</td>\n",
       "      <td>13600</td>\n",
       "      <td>0</td>\n",
       "    </tr>\n",
       "    <tr>\n",
       "      <th>2</th>\n",
       "      <td>9000.0</td>\n",
       "      <td>6.963</td>\n",
       "      <td>46100</td>\n",
       "      <td>0.349241</td>\n",
       "      <td>3</td>\n",
       "      <td>0</td>\n",
       "      <td>16100</td>\n",
       "      <td>0</td>\n",
       "    </tr>\n",
       "    <tr>\n",
       "      <th>3</th>\n",
       "      <td>10700.0</td>\n",
       "      <td>7.664</td>\n",
       "      <td>52700</td>\n",
       "      <td>0.430740</td>\n",
       "      <td>5</td>\n",
       "      <td>1</td>\n",
       "      <td>22700</td>\n",
       "      <td>0</td>\n",
       "    </tr>\n",
       "    <tr>\n",
       "      <th>4</th>\n",
       "      <td>10800.0</td>\n",
       "      <td>7.698</td>\n",
       "      <td>53000</td>\n",
       "      <td>0.433962</td>\n",
       "      <td>5</td>\n",
       "      <td>1</td>\n",
       "      <td>23000</td>\n",
       "      <td>0</td>\n",
       "    </tr>\n",
       "  </tbody>\n",
       "</table>\n",
       "</div>"
      ],
      "text/plain": [
       "   loan_size  interest_rate  borrower_income  debt_to_income  num_of_accounts  \\\n",
       "0    10700.0          7.672            52800        0.431818                5   \n",
       "1     8400.0          6.692            43600        0.311927                3   \n",
       "2     9000.0          6.963            46100        0.349241                3   \n",
       "3    10700.0          7.664            52700        0.430740                5   \n",
       "4    10800.0          7.698            53000        0.433962                5   \n",
       "\n",
       "   derogatory_marks  total_debt  loan_status  \n",
       "0                 1       22800            0  \n",
       "1                 0       13600            0  \n",
       "2                 0       16100            0  \n",
       "3                 1       22700            0  \n",
       "4                 1       23000            0  "
      ]
     },
     "execution_count": 50,
     "metadata": {},
     "output_type": "execute_result"
    }
   ],
   "source": [
    "# Import data\n",
    "df = pd.read_csv(\"Resources/lending_data.csv\")\n",
    "df.head()"
   ]
  },
  {
   "cell_type": "code",
   "execution_count": 3,
   "metadata": {},
   "outputs": [
    {
     "data": {
      "text/plain": [
       "False"
      ]
     },
     "execution_count": 3,
     "metadata": {},
     "output_type": "execute_result"
    }
   ],
   "source": [
    "# check for missing values\n",
    "df.isnull().values.any()"
   ]
  },
  {
   "cell_type": "code",
   "execution_count": 118,
   "metadata": {},
   "outputs": [],
   "source": [
    "# drop risk column and define data\n",
    "# converting data to an array circumvents user warning during fitting.\n",
    "X = df.drop(['loan_status'], axis=1).to_numpy()\n",
    "y = df['loan_status'].to_numpy()"
   ]
  },
  {
   "cell_type": "code",
   "execution_count": 119,
   "metadata": {},
   "outputs": [
    {
     "data": {
      "text/plain": [
       "array([[1.0700e+04, 7.6720e+00, 5.2800e+04, ..., 5.0000e+00, 1.0000e+00,\n",
       "        2.2800e+04],\n",
       "       [8.4000e+03, 6.6920e+00, 4.3600e+04, ..., 3.0000e+00, 0.0000e+00,\n",
       "        1.3600e+04],\n",
       "       [9.0000e+03, 6.9630e+00, 4.6100e+04, ..., 3.0000e+00, 0.0000e+00,\n",
       "        1.6100e+04],\n",
       "       ...,\n",
       "       [1.7600e+04, 1.0595e+01, 8.0300e+04, ..., 1.1000e+01, 2.0000e+00,\n",
       "        5.0300e+04],\n",
       "       [1.6300e+04, 1.0068e+01, 7.5300e+04, ..., 1.0000e+01, 2.0000e+00,\n",
       "        4.5300e+04],\n",
       "       [1.5600e+04, 9.7420e+00, 7.2300e+04, ..., 9.0000e+00, 2.0000e+00,\n",
       "        4.2300e+04]])"
      ]
     },
     "execution_count": 119,
     "metadata": {},
     "output_type": "execute_result"
    }
   ],
   "source": [
    "X"
   ]
  },
  {
   "cell_type": "code",
   "execution_count": 120,
   "metadata": {},
   "outputs": [],
   "source": [
    "def test_model(model, X, y, seed=5):\n",
    "    \"\"\"inputs model class and prints out train/test average accuracy scores\n",
    "\n",
    "    Args:\n",
    "        model (class): model class name\n",
    "        X (dataframe): data without label column\n",
    "        y (1D series): label data\n",
    "        seed (int): random seed value; default=5\n",
    "    \"\"\"\n",
    "    X_train, X_test, y_train, y_test = train_test_split(X, y, random_state=seed)\n",
    "    scaler = StandardScaler().fit(X_train)\n",
    "    X_train_scaled = scaler.transform(X_train)\n",
    "    X_test_scaled = scaler.transform(X_test)\n",
    "    clf = model.fit(X_train_scaled, y_train)\n",
    "    print(f\"model: {type(clf).__name__}, seed:{seed}\")\n",
    "    print(f\"train score: {clf.score(X_train_scaled, y_train)}\")\n",
    "    print(f\"test score: {clf.score(X_test_scaled, y_test)} \\n\")\n"
   ]
  },
  {
   "cell_type": "code",
   "execution_count": 115,
   "metadata": {},
   "outputs": [],
   "source": [
    "def test_model_fs(model, X, y, seed=5):\n",
    "    \"\"\"uses feature selection to reduce data width and prints out train/test accuracy scores\n",
    "    Args:\n",
    "        model (class): sklearn model class name\n",
    "        X (dataframe): data without label column\n",
    "        y (1D series): label data\n",
    "        seed (int): random seed value; default=5\n",
    "    \"\"\"\n",
    "    \n",
    "    X_train, X_test, y_train, y_test = train_test_split(X, y, random_state=seed)\n",
    "    scaler = StandardScaler().fit(X_train)\n",
    "    X_train_scaled = scaler.transform(X_train)\n",
    "    clf = model\n",
    "    \n",
    "    sel = SelectFromModel(clf)\n",
    "    sel.fit(X_train_scaled, y_train)\n",
    "    \n",
    "    X_sel_train, X_sel_test, y_train, y_test = train_test_split(sel.transform(X), y, random_state=seed)\n",
    "    scaler = StandardScaler().fit(X_sel_train)\n",
    "    X_sel_train_scaled = scaler.transform(X_sel_train)\n",
    "    X_sel_test_scaled = scaler.transform(X_sel_test)\n",
    "    clf.fit(X_sel_train_scaled, y_train)\n",
    "    \n",
    "    print(f\"model (fs): {type(clf).__name__}, seed:{seed}\")\n",
    "    print(f\"train score: {clf.score(X_sel_train_scaled, y_train)}\")\n",
    "    print(f\"test score: {clf.score(X_sel_test_scaled, y_test)} \\n\")"
   ]
  },
  {
   "cell_type": "code",
   "execution_count": 116,
   "metadata": {},
   "outputs": [
    {
     "name": "stdout",
     "output_type": "stream",
     "text": [
      "model: LogisticRegression, seed:1\n",
      "train score: 0.9942908240473243\n",
      "test score: 0.9936545604622369 \n",
      "\n",
      "model (fs): LogisticRegression, seed:1\n",
      "train score: 0.9931386710689228\n",
      "test score: 0.9928807263722658 \n",
      "\n"
     ]
    }
   ],
   "source": [
    "# print scores for logistic regression\n",
    "test_model(LogisticRegression(max_iter=100000), X, y,seed=1)\n",
    "test_model_fs(LogisticRegression(max_iter=100000), X, y,seed=1)\n"
   ]
  },
  {
   "cell_type": "code",
   "execution_count": 117,
   "metadata": {},
   "outputs": [
    {
     "name": "stdout",
     "output_type": "stream",
     "text": [
      "model: RandomForestClassifier, seed:1\n",
      "train score: 0.9975409272252029\n",
      "test score: 0.9916941807676434 \n",
      "\n",
      "model (fs): RandomForestClassifier, seed:1\n",
      "train score: 0.9975409272252029\n",
      "test score: 0.9917457697069748 \n",
      "\n"
     ]
    }
   ],
   "source": [
    "# print scores for random forest classifier model\n",
    "test_model(RandomForestClassifier(n_estimators=1000), X, y,seed=1)\n",
    "test_model_fs(RandomForestClassifier(n_estimators=1000), X, y,seed=1)\n"
   ]
  },
  {
   "cell_type": "code",
   "execution_count": 121,
   "metadata": {},
   "outputs": [
    {
     "name": "stdout",
     "output_type": "stream",
     "text": [
      "model: RandomForestClassifier, seed:1\n",
      "train score: 0.9975409272252029\n",
      "test score: 0.9914362360709864 \n",
      "\n"
     ]
    }
   ],
   "source": [
    "# test with fewer trees\n",
    "test_model(RandomForestClassifier(n_estimators=100), X, y,seed=1)\n"
   ]
  }
 ],
 "metadata": {
  "kernelspec": {
   "display_name": "Python 3.9.12 ('base')",
   "language": "python",
   "name": "python3"
  },
  "language_info": {
   "codemirror_mode": {
    "name": "ipython",
    "version": 3
   },
   "file_extension": ".py",
   "mimetype": "text/x-python",
   "name": "python",
   "nbconvert_exporter": "python",
   "pygments_lexer": "ipython3",
   "version": "3.9.12"
  },
  "vscode": {
   "interpreter": {
    "hash": "3f8e71100435e7bad3de0247326fe2ee2f66761e6a4d6a3e4c67b492e2c5904b"
   }
  }
 },
 "nbformat": 4,
 "nbformat_minor": 4
}
